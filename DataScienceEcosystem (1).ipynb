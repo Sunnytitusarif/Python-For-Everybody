{
 "cells": [
  {
   "cell_type": "markdown",
   "id": "4c61aacf-434a-45f7-9df3-073d099d0607",
   "metadata": {},
   "source": [
    "# Data Science Tools and Ecosytem"
   ]
  },
  {
   "cell_type": "markdown",
   "id": "625a8975-36a5-4cf0-b9c0-d6acf845120e",
   "metadata": {},
   "source": [
    "In this notebook, Data Science Tools and Ecosytem are summarized."
   ]
  },
  {
   "cell_type": "markdown",
   "id": "b45cd44d-ea8f-447a-9fbe-3d260983e8c4",
   "metadata": {},
   "source": [
    "Some of the popular languages that Data Scientist use are:\n",
    "1. Python\n",
    "2. R\n",
    "3. SQL\n",
    "4. C++\n",
    "5. Java\n",
    "6. MATLAB etc"
   ]
  },
  {
   "cell_type": "markdown",
   "id": "5b759e2f-1184-47e1-9d4d-918100b4e718",
   "metadata": {},
   "source": [
    "Some of the commonly used libraries used by Data Scientists include:\n",
    "1. Tensorflow\n",
    "2. Pandas\n",
    "3. Numpy\n",
    "4. Matplotlib\n",
    "5. Seaborn\n",
    "6. Scipy\n",
    "7. Plotly etc"
   ]
  },
  {
   "cell_type": "markdown",
   "id": "8c2dc925-26fb-4e3d-85b1-a221d1e67e91",
   "metadata": {},
   "source": [
    "| Data Science Tools |\n",
    "|--------------------|\n",
    "| Jupyter Notebook   |\n",
    "| RStudio            |\n",
    "| Apache Hadoop      |"
   ]
  },
  {
   "cell_type": "markdown",
   "id": "cd35d644-4580-4673-a769-7d34d3634cc0",
   "metadata": {},
   "source": [
    "### Below are a few example of evaluating arithmetic expressions in Python."
   ]
  },
  {
   "cell_type": "code",
   "execution_count": 9,
   "id": "aed8f471-e381-414f-b3e4-f117466db2a9",
   "metadata": {},
   "outputs": [
    {
     "data": {
      "text/plain": [
       "17"
      ]
     },
     "execution_count": 9,
     "metadata": {},
     "output_type": "execute_result"
    }
   ],
   "source": [
    "# This a simple arithmetic expression to multiply then add integers\n",
    "(3*4)+5"
   ]
  },
  {
   "cell_type": "code",
   "execution_count": 11,
   "id": "8f048948-2a10-47e6-a38b-7c7afbefa4a1",
   "metadata": {},
   "outputs": [
    {
     "data": {
      "text/plain": [
       "3.3333333333333335"
      ]
     },
     "execution_count": 11,
     "metadata": {},
     "output_type": "execute_result"
    }
   ],
   "source": [
    "# This will convert 200 minutes to hour by dividing by 60\n",
    "200/60"
   ]
  },
  {
   "cell_type": "markdown",
   "id": "f7f0f3ac-8ebd-4cbf-ad37-b2966caa6de6",
   "metadata": {},
   "source": [
    "__Objective:__\n",
    "* List popular languages for Data Science\n",
    "* List popular libraries for Data Science\n",
    "* List Data Science Tools\n",
    "* How to use comments in the cell"
   ]
  },
  {
   "cell_type": "markdown",
   "id": "cc16d213-b656-433f-8caf-5e29cd55311e",
   "metadata": {},
   "source": [
    "## Author\n",
    "Gourav Kumar\n"
   ]
  }
 ],
 "metadata": {
  "kernelspec": {
   "display_name": "Python 3 (ipykernel)",
   "language": "python",
   "name": "python3"
  },
  "language_info": {
   "codemirror_mode": {
    "name": "ipython",
    "version": 3
   },
   "file_extension": ".py",
   "mimetype": "text/x-python",
   "name": "python",
   "nbconvert_exporter": "python",
   "pygments_lexer": "ipython3",
   "version": "3.12.8"
  }
 },
 "nbformat": 4,
 "nbformat_minor": 5
}
